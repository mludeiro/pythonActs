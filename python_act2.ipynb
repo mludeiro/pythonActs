{
 "cells": [
  {
   "cell_type": "markdown",
   "id": "3871c82d-a940-4ee8-ac24-cab98c1fd1dc",
   "metadata": {},
   "source": [
    "# Session 2 Activities\n",
    "## Objectives\n",
    "\n",
    "* Be comfortable mixing async and sync code using asyncio.\n",
    "* Understand how Python uses classmethod, staticmethod, and abstract base classes for object design.\n",
    "* Use dataclasses to simplify boilerplate.\n",
    "* Know about native Python modules and binary extensions.\n",
    "* Write code with type hints and validate it with mypy.\n",
    "* Run tests with pytest and unittest.\n",
    "* Use the classic Python packaging tools (pip, venv, requirements.txt, setup.py) and know why modern projects move toward poetry."
   ]
  },
  {
   "cell_type": "markdown",
   "id": "917a8cb2-6201-4387-aaf4-f093eabbe1e4",
   "metadata": {},
   "source": [
    "## Mixing sync and async\n",
    "\n",
    "Sometimes is necessary to call sync code -ex. to use a legacy or not async compatible library-\n",
    "\n",
    "If the sync call is \"fast enough\" a posibility is to call it's methods/functions directly -acknowledging it may block other tasks in the loop-. In general if the sync call involves IO operations or a considerable CPU use it may be useful to run it in a separated thread -IO bound tasks, where GIL is not an issue- or subprocess -CPU bound tasks-."
   ]
  },
  {
   "cell_type": "code",
   "execution_count": null,
   "id": "73179d2f-0756-4343-acc4-27c16523495c",
   "metadata": {},
   "outputs": [],
   "source": [
    "# Do not run this example in Jupyter as it has some special handling of the event loop, asyncio.run() would fail.\n",
    "# Install pandas and fastparquet in venv before running it.\n",
    "import asyncio\n",
    "import pandas as pd\n",
    "import time\n",
    "import sys\n",
    "from itertools import cycle\n",
    "\n",
    "\n",
    "def load_taxi_data() -> tuple[pd.DataFrame, pd.DataFrame]:\n",
    "    \"\"\"Mostly IO-Bound blocking operations\"\"\"\n",
    "    # NY yellow taxi trips Jan 2023\n",
    "    url = \"https://d37ci6vzurychx.cloudfront.net/trip-data/yellow_tripdata_2023-01.parquet\"\n",
    "    print(\"Loading dataset...\")\n",
    "    df = pd.read_parquet(url, engine=\"fastparquet\")\n",
    "    print(\"Dataset loaded:\", df.shape)\n",
    "\n",
    "    # NY taxi zones data\n",
    "    zones_url = \"https://d37ci6vzurychx.cloudfront.net/misc/taxi+_zone_lookup.csv\"\n",
    "    zones = pd.read_csv(zones_url)\n",
    "    return df, zones\n",
    "\n",
    "\n",
    "def trips_data_by_borough(trips: pd.DataFrame, zones: pd.DataFrame) -> pd.DataFrame:\n",
    "    \"\"\"CPU-Bound blocking operations\"\"\"\n",
    "    start = time.time()\n",
    "\n",
    "    # Join trips with zone data\n",
    "    merged = trips.merge(zones, left_on=\"PULocationID\", right_on=\"LocationID\", how=\"left\")\n",
    "\n",
    "    # GroupBy by Borough sort\n",
    "    agg = (\n",
    "        merged.groupby(\"Borough\")\n",
    "        .agg(\n",
    "            total_trips=(\"VendorID\", \"count\"),\n",
    "            avg_distance=(\"trip_distance\", \"mean\"),\n",
    "            avg_fare=(\"fare_amount\", \"mean\"),\n",
    "        )\n",
    "        .sort_values(\"total_trips\", ascending=False)\n",
    "    )\n",
    "\n",
    "    print(\"Execution time:\", time.time() - start, \"seconds\")\n",
    "    return agg\n",
    "\n",
    "\n",
    "def sync_code() -> pd.DataFrame:\n",
    "    trips, zones = load_taxi_data()\n",
    "    res = trips_data_by_borough(trips, zones)\n",
    "    return res\n",
    "\n",
    "\n",
    "async def call_sync_code(done: asyncio.Event) -> pd.DataFrame:\n",
    "    # FIXME: Make the call to sync_code non-blocking so spinner can run concurrently displaying\n",
    "    # the spinner at all times.\n",
    "    # Notice both_taxi_data() and trips_data_by_borough() will block the spinner in this implementation.\n",
    "    # See `run_in_executor()` function, pick the most appropiate executor for maximum concurrency.\n",
    "    # Find a video of how the spinner should look like attached.\n",
    "    res = sync_code()\n",
    "    done.set()\n",
    "    return res\n",
    "\n",
    "\n",
    "async def spinner(done: asyncio.Event) -> None:\n",
    "    symbols = cycle(\"/-\\\\|\")\n",
    "    print()\n",
    "    for symbol in symbols:\n",
    "        if done.is_set():\n",
    "            break\n",
    "        sys.stdout.write(f\"\\033[3D[{symbol}]\")\n",
    "        sys.stdout.flush()\n",
    "        await asyncio.sleep(0.3)\n",
    "    print(\"X\")\n",
    "\n",
    "\n",
    "async def main() -> None:\n",
    "    done = asyncio.Event()\n",
    "    result, _ = await asyncio.gather(call_sync_code(done), spinner(done))\n",
    "    print(f\"{result=}\")\n",
    "\n",
    "\n",
    "asyncio.run(main())"
   ]
  },
  {
   "cell_type": "markdown",
   "id": "5809d697-6d55-4f30-b7da-5b8873b1f61e",
   "metadata": {},
   "source": [
    "## ABC, static methods, class methods and properties\n",
    "\n",
    "1. Modify `Document` class to enforce the `author` property and the `text` method are consistently implemented in subclasses.\n",
    "2. Modify `Document` class to enforce subclasses to have a \"type_name\" class method, this method should return a nice string representation of the document type -i.e: \"pdf\" for PDFDocument and \"docx\" for DocXDocument-.\n",
    "3. Add a method to `Document` in order to get the mimetype of a file without creating a `Document` subclass instance."
   ]
  },
  {
   "cell_type": "code",
   "execution_count": null,
   "id": "94a59fcf-4653-44ae-a567-c96b77dd41aa",
   "metadata": {},
   "outputs": [],
   "source": [
    "from pathlib import Path\n",
    "import mimetypes\n",
    "import pdfplumber\n",
    "import docx\n",
    "\n",
    "\n",
    "class Document:\n",
    "    def __init__(self, filepath: Path):\n",
    "        self.filepath = filepath\n",
    "\n",
    "    @property\n",
    "    def mime_type(self) -> tuple[str|None, str|None]:\n",
    "        \"\"\"Returns a tuple of the form (mimetype, encoding). If either the type or the encoding\n",
    "        cannot be guessed the value will be None.\"\"\"\n",
    "        return mimetypes.guess_type(self.filepath)\n",
    "\n",
    "\n",
    "class PDFDocument(Document):\n",
    "    def __init__(self, filepath: Path):\n",
    "        super().__init__(filepath)\n",
    "        self.document = pdfplumber.open(self.filepath)\n",
    "\n",
    "    @property\n",
    "    def author(self) -> str:\n",
    "        return self.document.metadata.get(\"Author\", \"\")\n",
    "\n",
    "    def text(self) -> str:\n",
    "        return \"\\n\".join(page.extract_text_simple() for page in self.document.pages)\n",
    "\n",
    "\n",
    "class DocXDocument(Document):\n",
    "    def __init__(self, filepath: Path):\n",
    "        super().__init__(filepath)\n",
    "        self.document = docx.Document(self.filepath)\n",
    "\n",
    "    @property\n",
    "    def docAuthor(self) -> str:\n",
    "        return self.document.core_properties.author\n",
    "\n",
    "    def textExtract(self) -> str:\n",
    "        return \"\\n\".join(para.text for para in self.document.paragraphs)"
   ]
  },
  {
   "cell_type": "code",
   "execution_count": null,
   "id": "d4381e37-aa43-4536-83ee-8fbda4ace81a",
   "metadata": {},
   "outputs": [],
   "source": [
    "pdf = PDFDocument(Path(\"... .pdf\"))\n",
    "doc = DocXDocument(Path(\"... .docx\"))"
   ]
  },
  {
   "cell_type": "code",
   "execution_count": null,
   "id": "96d4bd8c-9cae-4924-a039-a1b6736d056c",
   "metadata": {},
   "outputs": [],
   "source": [
    "pdf.author"
   ]
  },
  {
   "cell_type": "code",
   "execution_count": null,
   "id": "7550f8b1-24d2-4bbd-97f5-1506f789f086",
   "metadata": {},
   "outputs": [],
   "source": [
    "doc.docAuthor"
   ]
  },
  {
   "cell_type": "code",
   "execution_count": null,
   "id": "bc5721e9-d5e2-47e4-83ef-bbbaa654ac8d",
   "metadata": {},
   "outputs": [],
   "source": [
    "pdf.mime_type"
   ]
  },
  {
   "cell_type": "code",
   "execution_count": null,
   "id": "90267b42-1c00-42a3-afd4-addeba4621bc",
   "metadata": {},
   "outputs": [],
   "source": [
    "doc.mime_type"
   ]
  },
  {
   "cell_type": "code",
   "execution_count": null,
   "id": "37b69b5f-0ad9-4995-969a-a66c1b5d59bc",
   "metadata": {},
   "outputs": [],
   "source": [
    "pdf.text()"
   ]
  },
  {
   "cell_type": "code",
   "execution_count": null,
   "id": "c8e97f9e-8b23-4e99-8ebf-06eca16116a4",
   "metadata": {},
   "outputs": [],
   "source": [
    "doc.textExtract()"
   ]
  },
  {
   "cell_type": "markdown",
   "id": "4f29f2a9-0707-47e2-9bcb-fe3e4fad6174",
   "metadata": {},
   "source": [
    "## Create a simple python package and build a wheel"
   ]
  },
  {
   "cell_type": "markdown",
   "id": "36c98881-1f97-44eb-9840-f2f1d5a25633",
   "metadata": {},
   "source": [
    "Create a simple python package project using Poetry. The package is a library to extract text from different document types -use the previous example code and split it in modules-.\n",
    "\n",
    "* Use Poetry to create and manage the project.\n",
    "* Add latest versiosn of pdfplumber and python-docx as dependencies.\n",
    "* Add black -or similar formatter tool-, and pytest as dev dependencies.\n",
    "* Run poetry install.\n",
    "* Implement some basic test.\n",
    "* Run the tests with `poetry run pytest` check `-v` and `--pdb` arguments.\n",
    "* Introduce a bug in the code or an assertion error in test to drop into debugger with `pytest`'s `--pdb` argument.\n",
    "* Make the code to work.\n",
    "* Build with poetry, check the generated files in `dist`.\n",
    "* If possible publish in **pypi** and add it as dependency in another test project.\n",
    "\n",
    "Suggested project layout:\n",
    "```\n",
    "docreader/\n",
    "├── README.md\n",
    "├── docreader\n",
    "│   ├── __init__.py\n",
    "│   ├── document.py\n",
    "│   ├── docx.py\n",
    "│   └── pdf.py\n",
    "├── pyproject.toml\n",
    "└── tests\n",
    "    ├── file_examples\n",
    "    │   ├── example.docx\n",
    "    │   └── example.pdf\n",
    "    └── test_pdf.py\n",
    "```"
   ]
  },
  {
   "cell_type": "code",
   "execution_count": null,
   "id": "3ca3a8de-dafc-41ae-84f2-5533f1a50870",
   "metadata": {},
   "outputs": [],
   "source": [
    "# Example test\n",
    "from docreader import pdf\n",
    "\n",
    "def test_author():\n",
    "    d = pdf.PDFDocument(\"tests/file_examples/example.pdf\")\n",
    "    assert d.author == \"Eric Idle\""
   ]
  }
 ],
 "metadata": {
  "kernelspec": {
   "display_name": "Python 3 (ipykernel)",
   "language": "python",
   "name": "python3"
  },
  "language_info": {
   "codemirror_mode": {
    "name": "ipython",
    "version": 3
   },
   "file_extension": ".py",
   "mimetype": "text/x-python",
   "name": "python",
   "nbconvert_exporter": "python",
   "pygments_lexer": "ipython3",
   "version": "3.12.3"
  }
 },
 "nbformat": 4,
 "nbformat_minor": 5
}
