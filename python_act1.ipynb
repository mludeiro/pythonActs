{
 "cells": [
  {
   "cell_type": "markdown",
   "id": "f35cd466-c147-4136-9854-d0ebee620ea2",
   "metadata": {},
   "source": [
    "# Python basics\n",
    "\n",
    "* Type system\n",
    "* Magic Methods\n",
    "* Protocols (iterators, generators)\n",
    "* GIL\n",
    "* Sync vs Async\n",
    "* Multithreading/ MUltiprocessing"
   ]
  },
  {
   "cell_type": "markdown",
   "id": "2b3e9dc7-62fc-432c-9c36-92db5138b4cd",
   "metadata": {},
   "source": [
    "## Warming activities\n",
    "\n",
    "1. Python has some predefined values, classes and function, those are in the `__builtins__` package and automatically available for the user. Lets explore them in a Python REPL:\n",
    "   1. dir() is quite usefull it shows the attributes of the object sent as an argument, if no arguments are provided it shows the defined names in the current scope. Run `dir()` and `dir(__builtins__)`.\n",
    "   2. help() renders the documentation for any object (it does that by rendering the class docstring). Try `help(dir)`\n",
    "   3. type() receives an instance and returns the class that instance belongs to. Try `type(1)`, `type(list)`, `type(type(1))`.\n",
    "2. Some of the builtins are Python types, like int, float, str, bool, list, set, dict, tuple.\n",
    "   1. Not an exercise: Simple types like int an float are quite intuitive, just let's say there is a regular division `/` that returns float even if both operators are int. There is also an integer division `//`. So `type(42 / 2) is float` but `type(42 // 2) is int` -`is` operator is for identity check, not comparision. Only use it for types and for None-\n",
    "   2. Collections and strings are more interesting, there are mutable collections -list, dict, set- and inmutable collections -tuple, str, bytes-.\n",
    "      1. Create a list with numbers, and a tuple with the same numbers.\n",
    "      2. Try to append a new number to each type.\n",
    "      3. Create a `set()` and try to add inmutable instances first and then mutable instances. Investigate why it doesn't work with inmutable collections, compare the case with `dict()` keys.\n",
    "      5. As in some other languages, collections can be created by extension and some also by comprehension.\n",
    "         1. Create a list of the squares of the first 20 integer numbers by extension by iterating in a range() object and appending data.\n",
    "         2. Create the same list by extension by passing the range() object as argument to list().\n",
    "         3. Create yet again the same list by comprehension.\n",
    "         4. Explore how to create sets and dicts by comprehension."
   ]
  },
  {
   "cell_type": "markdown",
   "id": "d9dfb324-befc-4d28-b767-eeeb729208ec",
   "metadata": {},
   "source": [
    "---\n",
    "\n",
    "**Fun fact** int instances in Python never overflows. An `int` instance starts its life as 64bits int but if the number you want to store doesn't fit it grows enabling to have ridiculously big integers -as far as system heap memory allows it-\n",
    "\n",
    "---"
   ]
  },
  {
   "cell_type": "markdown",
   "id": "20413f6d-4d97-487d-bd12-b20d6b7b3f72",
   "metadata": {},
   "source": [
    "## Protocols\n",
    "\n",
    "### Special methods (dunder methods)\n",
    "\n",
    "See: https://docs.python.org/3/reference/datamodel.html#special-method-names\n",
    "\n",
    "This methods allows to better integrate our custom classes instances with the languague and its operators, some have a default behaviour if we do not override them and others are only defined when needed.\n",
    "\n",
    "Normally dunder methods are not called directly, instead those are called when a given operation is done on the instance -eg. accesing by subscripting, deleting, calling as a function, comparing, etc-\n",
    "\n",
    "When we use dunder methods there is no mandatory to inherit of any specific class, but it can be done using a Protocol subclass for a more strict type checking if wanted. See https://typing.python.org/en/latest/spec/protocol.html.\n",
    "\n",
    "For example lets take the `repr()` builtin and the `>` operator, those use the `__repr__()` and `__gt__()` dunder methods. All objects have a default definition for `__repr__()`, this implementation retuns a basic description and the `id()` of the instance in hexadecimal. But not all have a `__gt__()`.\n",
    " "
   ]
  },
  {
   "cell_type": "code",
   "execution_count": 32,
   "id": "e8090a6d-fc35-413c-b8ba-fcbaa0a257b2",
   "metadata": {},
   "outputs": [
    {
     "name": "stdout",
     "output_type": "stream",
     "text": [
      "a.__repr__() = '<__main__.A object at 0x7fd2e4198c50>'\n",
      "a.__gt__(b) = NotImplemented\n",
      "a > b raises: <class 'TypeError'>: '>' not supported between instances of 'A' and 'A'\n"
     ]
    }
   ],
   "source": [
    "class A:\n",
    "    pass\n",
    "\n",
    "a = A()\n",
    "b = A()\n",
    "print(f\"{a.__repr__() = }\")\n",
    "print(f\"{a.__gt__(b) = }\")\n",
    "try:\n",
    "    print(a > b)\n",
    "except Exception as e:\n",
    "    print(f\"a > b raises: {type(e)}: {e}\")"
   ]
  },
  {
   "cell_type": "markdown",
   "id": "c0eb54cf-cf80-469f-b369-501d3ef779f7",
   "metadata": {},
   "source": [
    "### Activities"
   ]
  },
  {
   "cell_type": "markdown",
   "id": "18b65a93-5e0c-4ea7-b110-508681cf9426",
   "metadata": {},
   "source": [
    "1. Create a custom class that behave similarly to a dict but also allows to access the items as attributes -like a mix between dict and namedtuple-. Implement only setting and getting, do not bother with other methods.   \n",
    "```python\n",
    "class AttrDict:\n",
    "    def __init__(self):\n",
    "        super().__setattr__(\"dict\", {})  # This is a help and a clue\n",
    "    # implement the rest of the class ...\n",
    "    \n",
    "# Usage\n",
    "d = AttrDict()\n",
    "d[\"name\"] = \"Eric\"\n",
    "d[\"last_name\"] = \"Idle\"\n",
    "\n",
    "print(d.name)\n",
    "print(d[\"name\"])\n",
    "d.name = \"Terry\"\n",
    "d.last_name = \"Jones\"\n",
    "print(d.name)\n",
    "print(d.last_name)\n",
    "```\n",
    "2. If you create two identical instances of AttrDict() with the same values, the `==` comparision returns `False`, if you put them in a set, then the set has two elements, but by definition it only should have one. Try to fix it to work as intended by overriding `__hash__` and `__eq__`.\n",
    "\n",
    "There is a useful example in `__hash__` documentation: https://docs.python.org/3/reference/datamodel.html#object.__hash__\n",
    "\n",
    "Example code:\n",
    "```python\n",
    "a = AttrDict()\n",
    "b = AttrDict()\n",
    "a[\"name\"] = \"Eric\"\n",
    "a[\"last_name\"] = \"Idle\"\n",
    "a[\"age\"] = 82\n",
    "b[\"name\"] = \"Eric\"\n",
    "b[\"last_name\"] = \"Idle\"\n",
    "b[\"age\"] = 82\n",
    "\n",
    "a == b  # This is False but it should be True\n",
    "a == a  # This returns True correctly\n",
    "{a, b}  # This returns a set with two equal objects but set items should be unique instead\n",
    "```\n",
    "\n",
    "3. There are two main ways of creating a generator, by using `yield` statement in a function and by creating a generator by comprehension. Create a generator object that generates the square root of each integer number starting from 0 and without any superior limit. Use both ways to define the generator.\n",
    "\n",
    "Example code:\n",
    "```python\n",
    "from math import sqrt\n",
    "## Implement generator here\n",
    "## ...\n",
    "square_root_gen = # ...\n",
    "\n",
    "for sqr in square_root_gen:\n",
    "    print(srq)\n",
    "    if sqr > 5:\n",
    "        break\n",
    "```\n",
    "**Note**: Consider to use `itertools.count` at least for the generator by comprehension version."
   ]
  },
  {
   "cell_type": "markdown",
   "id": "58049fcb-daa7-430a-84d5-20d642646a68",
   "metadata": {},
   "source": [
    "## Sync / Async"
   ]
  },
  {
   "cell_type": "markdown",
   "id": "e61572e3-5dc7-466c-b704-913675f5bd8a",
   "metadata": {},
   "source": [
    "Since version 3.5 Python has specific syntax for coroutines with `async *` and `await` statements.\n",
    "\n",
    "There are certain restrinctions and considerations when running async Python code:\n",
    "\n",
    "* `await` can only be used inside async functions.\n",
    "* Some scheduler is needed to run the code. Tipically asyncio provided with Python std lib is used, altough third party options exist like curio and trio.\n",
    "* Mixing blocking sync operations with async should be avoided if posible to avoid blocking the complete application. For that different libraries provide async abstractions for networking, DB operations and I/O in general.\n",
    "* REPL and debugger do not have a nice way to run async functions. Instead jupyter is a good alternative to easily run async functions for small experiments\n",
    "\n",
    "Many traditional Python frameworks have some degree of async support:\n",
    "\n",
    "* FastAPI has a mature support for async (https://fastapi.tiangolo.com/async/)\n",
    "* Flask traditionally was only sync altough there is optional async support installing `flask[async]` (https://flask.palletsprojects.com/en/stable/async-await/)\n",
    "* Django has partial async support (https://docs.djangoproject.com/en/5.2/topics/async/)\n",
    "\n",
    "In the ORM field SQLAlchemy supports async but special care should be taken to avoid implicit operations like lazy loading relationships (https://docs.sqlalchemy.org/en/20/orm/extensions/asyncio.html#preventing-implicit-io-when-using-asyncsession) it is quirky but usable.\n",
    "There are ORMs designed for async like TortoiseORM but I have no experience to give an opinion here. If in doubt SQLAlchemy is a well stablished stable and tested framework."
   ]
  },
  {
   "cell_type": "markdown",
   "id": "3d071357-e43c-4325-8fb9-8dd55ce1b191",
   "metadata": {},
   "source": [
    "### Activities"
   ]
  },
  {
   "cell_type": "markdown",
   "id": "e240a374-069b-4ecb-804b-d1985501df90",
   "metadata": {},
   "source": [
    "1. Run the following code and analyze the execution time. Fix the bug in the code to minimize the execution time by allowing both tasks to execute."
   ]
  },
  {
   "cell_type": "code",
   "execution_count": null,
   "id": "2e5273a6-01b6-48dc-9f2e-337f675fa9bc",
   "metadata": {},
   "outputs": [],
   "source": [
    "import asyncio\n",
    "import time\n",
    "\n",
    "async def task_one():\n",
    "    \"\"\"An asynchronous task that prints a message and sleeps.\"\"\"\n",
    "    print(\"Task One: Starting...\")\n",
    "    time.sleep(2 # Simulate some I/O-bound operation\n",
    "    print(\"Task One: Finished!\")\n",
    "\n",
    "async def task_two():\n",
    "    \"\"\"Another asynchronous task that prints a message and sleeps.\"\"\"\n",
    "    print(\"Task Two: Starting...\")\n",
    "    time.sleep(1) # Simulate another I/O-bound operation\n",
    "    print(\"Task Two: Finished!\")\n",
    "\n",
    "async def main():\n",
    "    \"\"\"The main coroutine to run the asynchronous tasks concurrently.\"\"\"\n",
    "    print(\"Main: Creating tasks...\")\n",
    "    # Create tasks to run concurrently\n",
    "    start_time = time.time()\n",
    "    await asyncio.gather(task_one(), task_two())\n",
    "    print(f\"Main: All tasks completed in {time.time() - start_time}.\")\n",
    "\n",
    "if __name__ == \"__main__\":\n",
    "    asyncio.run(main())"
   ]
  }
 ],
 "metadata": {
  "kernelspec": {
   "display_name": "Python 3 (ipykernel)",
   "language": "python",
   "name": "python3"
  },
  "language_info": {
   "codemirror_mode": {
    "name": "ipython",
    "version": 3
   },
   "file_extension": ".py",
   "mimetype": "text/x-python",
   "name": "python",
   "nbconvert_exporter": "python",
   "pygments_lexer": "ipython3",
   "version": "3.12.3"
  }
 },
 "nbformat": 4,
 "nbformat_minor": 5
}
